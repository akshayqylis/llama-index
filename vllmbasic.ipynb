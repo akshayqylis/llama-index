{
 "cells": [
  {
   "cell_type": "code",
   "execution_count": 1,
   "id": "4fdc98b9-5c00-4c2c-8f5b-e03391e5914b",
   "metadata": {},
   "outputs": [
    {
     "name": "stderr",
     "output_type": "stream",
     "text": [
      "/home/akshaymambakam/genai/agentenv/lib/python3.10/site-packages/tqdm/auto.py:21: TqdmWarning: IProgress not found. Please update jupyter and ipywidgets. See https://ipywidgets.readthedocs.io/en/stable/user_install.html\n",
      "  from .autonotebook import tqdm as notebook_tqdm\n",
      "None of PyTorch, TensorFlow >= 2.0, or Flax have been found. Models won't be available and only tokenizers, configuration and file/data utilities can be used.\n"
     ]
    }
   ],
   "source": [
    "from llama_index.core import VectorStoreIndex, SimpleDirectoryReader\n",
    "from llama_index.core import SummaryIndex\n",
    "from llama_index.core import Settings\n",
    "from llama_index.core.tools import QueryEngineTool\n",
    "\n",
    "from vllmpoint import get_vllm_embedder, get_vllm_llm\n",
    "\n",
    "import logging\n",
    "import sys"
   ]
  },
  {
   "cell_type": "code",
   "execution_count": 2,
   "id": "91a71ea6",
   "metadata": {},
   "outputs": [],
   "source": [
    "logging.basicConfig(\n",
    "    stream=sys.stdout, level=logging.INFO\n",
    ")  # logging.DEBUG for more verbose output\n",
    "logging.getLogger().addHandler(logging.StreamHandler(stream=sys.stdout))"
   ]
  },
  {
   "cell_type": "code",
   "execution_count": 3,
   "id": "241f2e44",
   "metadata": {},
   "outputs": [],
   "source": [
    "llm = get_vllm_llm()\n",
    "embed_model = get_vllm_embedder()"
   ]
  },
  {
   "cell_type": "code",
   "execution_count": 4,
   "id": "51827fbe",
   "metadata": {},
   "outputs": [],
   "source": [
    "Settings.llm = llm\n",
    "Settings.embed_model = embed_model"
   ]
  },
  {
   "cell_type": "code",
   "execution_count": 5,
   "id": "88496e25",
   "metadata": {},
   "outputs": [
    {
     "name": "stdout",
     "output_type": "stream",
     "text": [
      "INFO:httpx:HTTP Request: POST http://g3.ai.qylis.com:7000/v1/embeddings \"HTTP/1.1 200 OK\"\n",
      "HTTP Request: POST http://g3.ai.qylis.com:7000/v1/embeddings \"HTTP/1.1 200 OK\"\n"
     ]
    }
   ],
   "source": [
    "# Simple query by indexing\n",
    "# TODO: Try multimedia inputs like mp3 and mp4\n",
    "documents = SimpleDirectoryReader(\n",
    "    input_files=[\"feedback.docx\"]\n",
    ").load_data()\n",
    "feedback_index = VectorStoreIndex.from_documents(documents)"
   ]
  },
  {
   "cell_type": "code",
   "execution_count": 6,
   "id": "e39c2b68",
   "metadata": {},
   "outputs": [
    {
     "name": "stdout",
     "output_type": "stream",
     "text": [
      "INFO:httpx:HTTP Request: POST http://g3.ai.qylis.com:7000/v1/embeddings \"HTTP/1.1 200 OK\"\n",
      "HTTP Request: POST http://g3.ai.qylis.com:7000/v1/embeddings \"HTTP/1.1 200 OK\"\n",
      "INFO:httpx:HTTP Request: POST http://g3.ai.qylis.com:8000/v1/chat/completions \"HTTP/1.1 200 OK\"\n",
      "HTTP Request: POST http://g3.ai.qylis.com:8000/v1/chat/completions \"HTTP/1.1 200 OK\"\n"
     ]
    }
   ],
   "source": [
    "query = \"What is the feedback about? Give me names.\"\n",
    "query_engine = feedback_index.as_query_engine()\n",
    "answer = query_engine.query(query)"
   ]
  },
  {
   "cell_type": "code",
   "execution_count": 7,
   "id": "1d80abc6",
   "metadata": {},
   "outputs": [
    {
     "name": "stdout",
     "output_type": "stream",
     "text": [
      "> Source (Doc id: 31ed660a-2ac8-46a0-be03-212e16053cc4): Interview Feedback Form - Qylis\n",
      "\n",
      "Section 1: Candidate Details \n",
      "\n",
      "Name of Candidate   : ______ ____...\n",
      "Query was: What is the feedback about? Give me names.\n",
      "Answer was: The feedback is about an interview for a Data Science position. The names mentioned are Sohel and Akshay.\n"
     ]
    }
   ],
   "source": [
    "print(answer.get_formatted_sources())\n",
    "print(\"Query was:\", query)\n",
    "print(\"Answer was:\", answer)"
   ]
  },
  {
   "cell_type": "code",
   "execution_count": 8,
   "id": "00360b40",
   "metadata": {},
   "outputs": [
    {
     "name": "stdout",
     "output_type": "stream",
     "text": [
      "INFO:httpx:HTTP Request: POST http://g3.ai.qylis.com:8000/v1/chat/completions \"HTTP/1.1 200 OK\"\n",
      "HTTP Request: POST http://g3.ai.qylis.com:8000/v1/chat/completions \"HTTP/1.1 200 OK\"\n",
      "The candidate's strengths include being open and able to quickly grasp concepts. However, they require improvement in understanding the technical aspects of problems in their field.\n"
     ]
    }
   ],
   "source": [
    "# Summarization\n",
    "summary_index = SummaryIndex.from_documents(documents)\n",
    "\n",
    "query_engine = summary_index.as_query_engine(response_mode=\"tree_summarize\", streaming=True)\n",
    "response = query_engine.query(\"<summarization_query>\")\n",
    "response.print_response_stream()\n",
    "print('')"
   ]
  },
  {
   "cell_type": "code",
   "execution_count": 9,
   "id": "d071018e",
   "metadata": {},
   "outputs": [
    {
     "name": "stdout",
     "output_type": "stream",
     "text": [
      "INFO:httpx:HTTP Request: POST http://g3.ai.qylis.com:7000/v1/embeddings \"HTTP/1.1 200 OK\"\n",
      "HTTP Request: POST http://g3.ai.qylis.com:7000/v1/embeddings \"HTTP/1.1 200 OK\"\n",
      "INFO:httpx:HTTP Request: POST http://g3.ai.qylis.com:7000/v1/embeddings \"HTTP/1.1 200 OK\"\n",
      "HTTP Request: POST http://g3.ai.qylis.com:7000/v1/embeddings \"HTTP/1.1 200 OK\"\n",
      "INFO:httpx:HTTP Request: POST http://g3.ai.qylis.com:7000/v1/embeddings \"HTTP/1.1 200 OK\"\n",
      "HTTP Request: POST http://g3.ai.qylis.com:7000/v1/embeddings \"HTTP/1.1 200 OK\"\n"
     ]
    }
   ],
   "source": [
    "documents = SimpleDirectoryReader(\n",
    "    input_files=[\"paul_graham_essay.txt\"]\n",
    ").load_data()\n",
    "essay_index = VectorStoreIndex.from_documents(documents)\n",
    "\n",
    "# Define query engines and tools\n",
    "tool1 = QueryEngineTool.from_defaults(\n",
    "    query_engine=feedback_index.as_query_engine(),\n",
    "    description=\"Use this query engine for feedback form.\",\n",
    "    # description=\"Use this query engine for an English essay.\", Switch\n",
    ")\n",
    "tool2 = QueryEngineTool.from_defaults(\n",
    "    query_engine=essay_index.as_query_engine(),\n",
    "    description=\"Use this query engine for an English essay.\",\n",
    "    # description=\"Use this query engine for feedback form.\", Switch\n",
    ")"
   ]
  },
  {
   "cell_type": "code",
   "execution_count": 8,
   "id": "77cb0c1c",
   "metadata": {},
   "outputs": [
    {
     "name": "stdout",
     "output_type": "stream",
     "text": [
      "INFO:httpx:HTTP Request: POST https://evaln-openai.openai.azure.com/openai/deployments/gpt-4o/chat/completions?api-version=2024-05-01-preview \"HTTP/1.1 200 OK\"\n",
      "HTTP Request: POST https://evaln-openai.openai.azure.com/openai/deployments/gpt-4o/chat/completions?api-version=2024-05-01-preview \"HTTP/1.1 200 OK\"\n",
      "Response1: Could you provide more context or details about the interview candidate you're referring to? Are you asking about a specific interview or a general concept?\n",
      "INFO:httpx:HTTP Request: POST https://evaln-openai.openai.azure.com/openai/deployments/gpt-4o/chat/completions?api-version=2024-05-01-preview \"HTTP/1.1 200 OK\"\n",
      "HTTP Request: POST https://evaln-openai.openai.azure.com/openai/deployments/gpt-4o/chat/completions?api-version=2024-05-01-preview \"HTTP/1.1 200 OK\"\n",
      "Response2: The interviewer is the person conducting the interview. They are typically responsible for asking questions, assessing the candidate's qualifications, and determining whether the candidate is a good fit for the role or opportunity. Interviewers can be hiring managers, HR professionals, team leads, or other stakeholders involved in the selection process. \n",
      "\n",
      "If you're referring to a specific interview, could you provide more details so I can give a more tailored response?\n"
     ]
    }
   ],
   "source": [
    "# Get as chat. Keeps track of conversation history\n",
    "chat_engine = feedback_index.as_chat_engine()\n",
    "chat1 = \"Who is the interview candidate?\"\n",
    "response1 = chat_engine.chat(chat1)\n",
    "print('Response1:', response1)\n",
    "chat2 = \"Who is the interviewer?\"\n",
    "response2 = chat_engine.chat(chat2)\n",
    "print('Response2:', response2)"
   ]
  },
  {
   "cell_type": "code",
   "execution_count": 13,
   "id": "8dc996f3",
   "metadata": {},
   "outputs": [
    {
     "name": "stdout",
     "output_type": "stream",
     "text": [
      "INFO:httpx:HTTP Request: POST https://evaln-openai.openai.azure.com/openai/deployments/gpt-4o/chat/completions?api-version=2024-05-01-preview \"HTTP/1.1 200 OK\"\n",
      "HTTP Request: POST https://evaln-openai.openai.azure.com/openai/deployments/gpt-4o/chat/completions?api-version=2024-05-01-preview \"HTTP/1.1 200 OK\"\n",
      "INFO:httpx:HTTP Request: POST https://evaln-openai.openai.azure.com/openai/deployments/text-embedding-ada-002/embeddings?api-version=2024-05-01-preview \"HTTP/1.1 200 OK\"\n",
      "HTTP Request: POST https://evaln-openai.openai.azure.com/openai/deployments/text-embedding-ada-002/embeddings?api-version=2024-05-01-preview \"HTTP/1.1 200 OK\"\n",
      "INFO:httpx:HTTP Request: POST https://evaln-openai.openai.azure.com/openai/deployments/gpt-4o/chat/completions?api-version=2024-05-01-preview \"HTTP/1.1 200 OK\"\n",
      "HTTP Request: POST https://evaln-openai.openai.azure.com/openai/deployments/gpt-4o/chat/completions?api-version=2024-05-01-preview \"HTTP/1.1 200 OK\"\n",
      "INFO:httpx:HTTP Request: POST https://evaln-openai.openai.azure.com/openai/deployments/gpt-4o/chat/completions?api-version=2024-05-01-preview \"HTTP/1.1 200 OK\"\n",
      "HTTP Request: POST https://evaln-openai.openai.azure.com/openai/deployments/gpt-4o/chat/completions?api-version=2024-05-01-preview \"HTTP/1.1 200 OK\"\n",
      "The feedback for Sohel's interview for the Data Scientist position on February 14, 2025, highlighted the following:\n",
      "\n",
      "- **Strengths**: Sohel demonstrated openness and the ability to quickly grasp concepts.\n",
      "- **Areas for Improvement**: He needs a better understanding of the technical aspects of problems in the field.\n",
      "- **Evaluation**: The feedback covered technical skills, behavioral skills, and cultural fit, but specific ratings were not provided.\n",
      "- **Additional Comments**: None were made.\n",
      "- **Overall Recommendation**: Not indicated.\n"
     ]
    }
   ],
   "source": [
    "chat3 = \"Give me the summary of the feedback?\"\n",
    "response3 = chat_engine.chat(chat3)\n",
    "print(response3)"
   ]
  },
  {
   "cell_type": "code",
   "execution_count": 10,
   "id": "c0c1025f",
   "metadata": {},
   "outputs": [
    {
     "name": "stdout",
     "output_type": "stream",
     "text": [
      "===== Entering Chat REPL =====\n",
      "Type \"exit\" to exit.\n",
      "\n",
      "INFO:httpx:HTTP Request: POST http://g3.ai.qylis.com:8000/v1/chat/completions \"HTTP/1.1 200 OK\"\n",
      "HTTP Request: POST http://g3.ai.qylis.com:8000/v1/chat/completions \"HTTP/1.1 200 OK\"\n",
      "INFO:httpx:HTTP Request: POST http://g3.ai.qylis.com:7000/v1/embeddings \"HTTP/1.1 200 OK\"\n",
      "HTTP Request: POST http://g3.ai.qylis.com:7000/v1/embeddings \"HTTP/1.1 200 OK\"\n",
      "INFO:httpx:HTTP Request: POST http://g3.ai.qylis.com:8000/v1/chat/completions \"HTTP/1.1 200 OK\"\n",
      "HTTP Request: POST http://g3.ai.qylis.com:8000/v1/chat/completions \"HTTP/1.1 200 OK\"\n",
      "INFO:httpx:HTTP Request: POST http://g3.ai.qylis.com:8000/v1/chat/completions \"HTTP/1.1 200 OK\"\n",
      "HTTP Request: POST http://g3.ai.qylis.com:8000/v1/chat/completions \"HTTP/1.1 200 OK\"\n",
      "Assistant: The summary of the feedback is that the candidate, Sohel, has potential but needs to work on their technical skills.\n",
      "\n",
      "INFO:httpx:HTTP Request: POST http://g3.ai.qylis.com:8000/v1/chat/completions \"HTTP/1.1 200 OK\"\n",
      "HTTP Request: POST http://g3.ai.qylis.com:8000/v1/chat/completions \"HTTP/1.1 200 OK\"\n",
      "INFO:httpx:HTTP Request: POST http://g3.ai.qylis.com:7000/v1/embeddings \"HTTP/1.1 200 OK\"\n",
      "HTTP Request: POST http://g3.ai.qylis.com:7000/v1/embeddings \"HTTP/1.1 200 OK\"\n",
      "INFO:httpx:HTTP Request: POST http://g3.ai.qylis.com:8000/v1/chat/completions \"HTTP/1.1 200 OK\"\n",
      "HTTP Request: POST http://g3.ai.qylis.com:8000/v1/chat/completions \"HTTP/1.1 200 OK\"\n",
      "INFO:httpx:HTTP Request: POST http://g3.ai.qylis.com:8000/v1/chat/completions \"HTTP/1.1 200 OK\"\n",
      "HTTP Request: POST http://g3.ai.qylis.com:8000/v1/chat/completions \"HTTP/1.1 200 OK\"\n",
      "Assistant: Dear Sohel,\n",
      "\n",
      "I wanted to take a moment to discuss your recent interview with our team. We appreciate the time you took to speak with us and share your qualifications for the Data Science position.\n",
      "\n",
      "One of the areas where you truly shone was in your openness and ability to quickly grasp concepts. These are valuable skills that will serve you well in any role, and we were impressed by your enthusiasm and engagement during the interview.\n",
      "\n",
      "However, we did feel that there was an opportunity for growth in your understanding of the technical aspects of the problems in the field. This is an area where we would like to see you develop further, and we believe that with some additional study and experience, you will be well-equipped to tackle the challenges of this role.\n",
      "\n",
      "We were pleased to see that you demonstrated strong communication skills and a willingness to learn. These are essential qualities for success in our team, and we believe that you have the potential to make a valuable contribution.\n",
      "\n",
      "In light of your strengths and areas for improvement, we would like to recommend you for the Data Science position, but with some reservations. We believe that with some additional development in the technical aspects of the field, you will be an excellent fit for our team.\n",
      "\n",
      "Thank you again for your interest in joining our team. We look forward to the opportunity to discuss this further with you.\n",
      "\n",
      "Best regards,\n",
      "Akshay\n",
      "\n",
      "INFO:httpx:HTTP Request: POST http://g3.ai.qylis.com:8000/v1/chat/completions \"HTTP/1.1 200 OK\"\n",
      "HTTP Request: POST http://g3.ai.qylis.com:8000/v1/chat/completions \"HTTP/1.1 200 OK\"\n",
      "INFO:httpx:HTTP Request: POST http://g3.ai.qylis.com:7000/v1/embeddings \"HTTP/1.1 200 OK\"\n",
      "HTTP Request: POST http://g3.ai.qylis.com:7000/v1/embeddings \"HTTP/1.1 200 OK\"\n",
      "INFO:httpx:HTTP Request: POST http://g3.ai.qylis.com:8000/v1/chat/completions \"HTTP/1.1 200 OK\"\n",
      "HTTP Request: POST http://g3.ai.qylis.com:8000/v1/chat/completions \"HTTP/1.1 200 OK\"\n",
      "INFO:httpx:HTTP Request: POST http://g3.ai.qylis.com:8000/v1/chat/completions \"HTTP/1.1 200 OK\"\n",
      "HTTP Request: POST http://g3.ai.qylis.com:8000/v1/chat/completions \"HTTP/1.1 200 OK\"\n",
      "Assistant: [Your Company Logo]\n",
      "[Your Company Name]\n",
      "[Date]\n",
      "\n",
      "Sohel,\n",
      "[Your Address]\n",
      "\n",
      "Dear Sohel,\n",
      "\n",
      "I am writing to you regarding the interview you had with our team on 14th February 2025. We appreciate the time you took to meet with us and share your qualifications for the Data Science position.\n",
      "\n",
      "We were impressed by your openness and ability to quickly grasp concepts. These are valuable traits that will serve you well in any professional setting. However, we did notice that you could benefit from a deeper understanding of the technical aspects of the problems in the field. This is an area where we would like to see you grow and develop.\n",
      "\n",
      "We believe that with some additional training and experience, you have the potential to excel in this role. We would like to invite you to discuss this further and explore how we can support your growth and development.\n",
      "\n",
      "Please do not hesitate to contact us if you have any questions or would like to schedule a follow-up conversation.\n",
      "\n",
      "Best regards,\n",
      "\n",
      "Aravind\n",
      "HR Representative\n",
      "\n"
     ]
    }
   ],
   "source": [
    "# For interactive chat\n",
    "chat_engine = feedback_index.as_chat_engine()\n",
    "chat_engine.chat_repl()"
   ]
  },
  {
   "cell_type": "code",
   "execution_count": null,
   "id": "4382698e",
   "metadata": {},
   "outputs": [],
   "source": []
  }
 ],
 "metadata": {
  "kernelspec": {
   "display_name": "agentenv",
   "language": "python",
   "name": "python3"
  },
  "language_info": {
   "codemirror_mode": {
    "name": "ipython",
    "version": 3
   },
   "file_extension": ".py",
   "mimetype": "text/x-python",
   "name": "python",
   "nbconvert_exporter": "python",
   "pygments_lexer": "ipython3",
   "version": "3.10.12"
  }
 },
 "nbformat": 4,
 "nbformat_minor": 5
}
