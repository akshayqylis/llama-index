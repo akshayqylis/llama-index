{
 "cells": [
  {
   "cell_type": "code",
   "execution_count": 5,
   "id": "4f14171a",
   "metadata": {},
   "outputs": [],
   "source": [
    "from qazure import get_llm\n",
    "from llama_index.core.agent.workflow import FunctionAgent"
   ]
  },
  {
   "cell_type": "code",
   "execution_count": 6,
   "id": "4fe4ee02",
   "metadata": {},
   "outputs": [],
   "source": [
    "import logging\n",
    "import sys"
   ]
  },
  {
   "cell_type": "code",
   "execution_count": 7,
   "id": "ade7b37b",
   "metadata": {},
   "outputs": [],
   "source": [
    "logging.basicConfig(\n",
    "    stream=sys.stdout, level=logging.INFO\n",
    ")  # logging.DEBUG for more verbose output\n",
    "logging.getLogger().addHandler(logging.StreamHandler(stream=sys.stdout))"
   ]
  },
  {
   "cell_type": "code",
   "execution_count": 8,
   "id": "936ede27",
   "metadata": {},
   "outputs": [],
   "source": [
    "llm = get_llm()"
   ]
  },
  {
   "cell_type": "code",
   "execution_count": 9,
   "id": "817675df",
   "metadata": {},
   "outputs": [
    {
     "name": "stdout",
     "output_type": "stream",
     "text": [
      "INFO:httpx:HTTP Request: POST http://127.0.0.1:8000/mcp \"HTTP/1.1 307 Temporary Redirect\"\n",
      "HTTP Request: POST http://127.0.0.1:8000/mcp \"HTTP/1.1 307 Temporary Redirect\"\n",
      "INFO:httpx:HTTP Request: POST http://127.0.0.1:8000/mcp/ \"HTTP/1.1 200 OK\"\n",
      "HTTP Request: POST http://127.0.0.1:8000/mcp/ \"HTTP/1.1 200 OK\"\n",
      "INFO:mcp.client.streamable_http:Received session ID: 832228d3c4c747489ab1e5505b4e54ab\n",
      "Received session ID: 832228d3c4c747489ab1e5505b4e54ab\n",
      "INFO:mcp.client.streamable_http:Negotiated protocol version: 2025-06-18\n",
      "Negotiated protocol version: 2025-06-18\n",
      "INFO:httpx:HTTP Request: POST http://127.0.0.1:8000/mcp \"HTTP/1.1 307 Temporary Redirect\"\n",
      "HTTP Request: POST http://127.0.0.1:8000/mcp \"HTTP/1.1 307 Temporary Redirect\"\n",
      "INFO:httpx:HTTP Request: GET http://127.0.0.1:8000/mcp \"HTTP/1.1 307 Temporary Redirect\"\n",
      "HTTP Request: GET http://127.0.0.1:8000/mcp \"HTTP/1.1 307 Temporary Redirect\"\n",
      "INFO:httpx:HTTP Request: POST http://127.0.0.1:8000/mcp/ \"HTTP/1.1 202 Accepted\"\n",
      "HTTP Request: POST http://127.0.0.1:8000/mcp/ \"HTTP/1.1 202 Accepted\"\n",
      "INFO:httpx:HTTP Request: GET http://127.0.0.1:8000/mcp/ \"HTTP/1.1 200 OK\"\n",
      "HTTP Request: GET http://127.0.0.1:8000/mcp/ \"HTTP/1.1 200 OK\"\n",
      "INFO:httpx:HTTP Request: POST http://127.0.0.1:8000/mcp \"HTTP/1.1 307 Temporary Redirect\"\n",
      "HTTP Request: POST http://127.0.0.1:8000/mcp \"HTTP/1.1 307 Temporary Redirect\"\n",
      "INFO:httpx:HTTP Request: POST http://127.0.0.1:8000/mcp/ \"HTTP/1.1 200 OK\"\n",
      "HTTP Request: POST http://127.0.0.1:8000/mcp/ \"HTTP/1.1 200 OK\"\n",
      "INFO:httpx:HTTP Request: DELETE http://127.0.0.1:8000/mcp \"HTTP/1.1 307 Temporary Redirect\"\n",
      "HTTP Request: DELETE http://127.0.0.1:8000/mcp \"HTTP/1.1 307 Temporary Redirect\"\n",
      "INFO:httpx:HTTP Request: DELETE http://127.0.0.1:8000/mcp/ \"HTTP/1.1 200 OK\"\n",
      "HTTP Request: DELETE http://127.0.0.1:8000/mcp/ \"HTTP/1.1 200 OK\"\n"
     ]
    }
   ],
   "source": [
    "from llama_index.tools.mcp import (\n",
    "    aget_tools_from_mcp_url,\n",
    ")\n",
    "\n",
    "# async\n",
    "tools = await aget_tools_from_mcp_url(\"http://127.0.0.1:8000/mcp\")"
   ]
  },
  {
   "cell_type": "code",
   "execution_count": 10,
   "id": "30f52384",
   "metadata": {},
   "outputs": [
    {
     "name": "stdout",
     "output_type": "stream",
     "text": [
      "[<llama_index.core.tools.function_tool.FunctionTool object at 0x7fcb1c161120>, <llama_index.core.tools.function_tool.FunctionTool object at 0x7fcb1c162200>]\n",
      "[<class 'llama_index.core.tools.function_tool.FunctionTool'>, <class 'llama_index.core.tools.function_tool.FunctionTool'>]\n"
     ]
    }
   ],
   "source": [
    "print(tools)\n",
    "print([type(tool) for tool in tools])"
   ]
  },
  {
   "cell_type": "code",
   "execution_count": 11,
   "id": "37a6156f",
   "metadata": {},
   "outputs": [],
   "source": [
    "# Create an agent workflow with our calculator tool\n",
    "agent = FunctionAgent(\n",
    "    tools=tools,\n",
    "    llm=llm,\n",
    "    system_prompt=\"You are a helpful assistant that can get weather.\",\n",
    ")"
   ]
  },
  {
   "cell_type": "code",
   "execution_count": 14,
   "id": "42181733",
   "metadata": {},
   "outputs": [
    {
     "name": "stdout",
     "output_type": "stream",
     "text": [
      "INFO:httpx:HTTP Request: POST https://evaln-openai.openai.azure.com/openai/deployments/gpt-4o/chat/completions?api-version=2024-05-01-preview \"HTTP/1.1 200 OK\"\n",
      "HTTP Request: POST https://evaln-openai.openai.azure.com/openai/deployments/gpt-4o/chat/completions?api-version=2024-05-01-preview \"HTTP/1.1 200 OK\"\n",
      "INFO:httpx:HTTP Request: POST http://127.0.0.1:8000/mcp \"HTTP/1.1 307 Temporary Redirect\"\n",
      "HTTP Request: POST http://127.0.0.1:8000/mcp \"HTTP/1.1 307 Temporary Redirect\"\n",
      "INFO:httpx:HTTP Request: POST http://127.0.0.1:8000/mcp/ \"HTTP/1.1 200 OK\"\n",
      "HTTP Request: POST http://127.0.0.1:8000/mcp/ \"HTTP/1.1 200 OK\"\n",
      "INFO:mcp.client.streamable_http:Received session ID: a8dce4b00eb544c583741d5ae9d3188d\n",
      "Received session ID: a8dce4b00eb544c583741d5ae9d3188d\n",
      "INFO:mcp.client.streamable_http:Negotiated protocol version: 2025-06-18\n",
      "Negotiated protocol version: 2025-06-18\n",
      "INFO:httpx:HTTP Request: POST http://127.0.0.1:8000/mcp \"HTTP/1.1 307 Temporary Redirect\"\n",
      "HTTP Request: POST http://127.0.0.1:8000/mcp \"HTTP/1.1 307 Temporary Redirect\"\n",
      "INFO:httpx:HTTP Request: GET http://127.0.0.1:8000/mcp \"HTTP/1.1 307 Temporary Redirect\"\n",
      "HTTP Request: GET http://127.0.0.1:8000/mcp \"HTTP/1.1 307 Temporary Redirect\"\n",
      "INFO:httpx:HTTP Request: POST http://127.0.0.1:8000/mcp/ \"HTTP/1.1 202 Accepted\"\n",
      "HTTP Request: POST http://127.0.0.1:8000/mcp/ \"HTTP/1.1 202 Accepted\"\n",
      "INFO:httpx:HTTP Request: GET http://127.0.0.1:8000/mcp/ \"HTTP/1.1 200 OK\"\n",
      "HTTP Request: GET http://127.0.0.1:8000/mcp/ \"HTTP/1.1 200 OK\"\n",
      "INFO:httpx:HTTP Request: POST http://127.0.0.1:8000/mcp \"HTTP/1.1 307 Temporary Redirect\"\n",
      "HTTP Request: POST http://127.0.0.1:8000/mcp \"HTTP/1.1 307 Temporary Redirect\"\n",
      "INFO:httpx:HTTP Request: POST http://127.0.0.1:8000/mcp/ \"HTTP/1.1 200 OK\"\n",
      "HTTP Request: POST http://127.0.0.1:8000/mcp/ \"HTTP/1.1 200 OK\"\n",
      "INFO:httpx:HTTP Request: POST http://127.0.0.1:8000/mcp \"HTTP/1.1 307 Temporary Redirect\"\n",
      "HTTP Request: POST http://127.0.0.1:8000/mcp \"HTTP/1.1 307 Temporary Redirect\"\n",
      "INFO:httpx:HTTP Request: POST http://127.0.0.1:8000/mcp/ \"HTTP/1.1 200 OK\"\n",
      "HTTP Request: POST http://127.0.0.1:8000/mcp/ \"HTTP/1.1 200 OK\"\n",
      "INFO:httpx:HTTP Request: DELETE http://127.0.0.1:8000/mcp \"HTTP/1.1 307 Temporary Redirect\"\n",
      "HTTP Request: DELETE http://127.0.0.1:8000/mcp \"HTTP/1.1 307 Temporary Redirect\"\n",
      "INFO:httpx:HTTP Request: DELETE http://127.0.0.1:8000/mcp/ \"HTTP/1.1 200 OK\"\n",
      "HTTP Request: DELETE http://127.0.0.1:8000/mcp/ \"HTTP/1.1 200 OK\"\n",
      "INFO:httpx:HTTP Request: POST https://evaln-openai.openai.azure.com/openai/deployments/gpt-4o/chat/completions?api-version=2024-05-01-preview \"HTTP/1.1 200 OK\"\n",
      "HTTP Request: POST https://evaln-openai.openai.azure.com/openai/deployments/gpt-4o/chat/completions?api-version=2024-05-01-preview \"HTTP/1.1 200 OK\"\n"
     ]
    }
   ],
   "source": [
    "agent_response = await agent.run(\"What is the weather for Hyderabad in Kelvin?\")"
   ]
  },
  {
   "cell_type": "code",
   "execution_count": 15,
   "id": "6d30d08e",
   "metadata": {},
   "outputs": [
    {
     "data": {
      "text/plain": [
       "AgentOutput(response=ChatMessage(role=<MessageRole.ASSISTANT: 'assistant'>, additional_kwargs={}, blocks=[TextBlock(block_type='text', text='The weather in Hyderabad is 22 Kelvin.')]), tool_calls=[ToolCallResult(tool_name='get_weather', tool_kwargs={'city': 'Hyderabad', 'unit': 'kelvin'}, tool_id='call_rXvJdRkwMUam4gnHXV15YpNF', tool_output=ToolOutput(blocks=[TextBlock(block_type='text', text=\"meta=None content=[TextContent(type='text', text='Weather in Hyderabad: 22degreesK', annotations=None, meta=None)] structuredContent={'result': 'Weather in Hyderabad: 22degreesK'} isError=False\")], tool_name='get_weather', raw_input={'args': (), 'kwargs': {'city': 'Hyderabad', 'unit': 'kelvin'}}, raw_output=CallToolResult(meta=None, content=[TextContent(type='text', text='Weather in Hyderabad: 22degreesK', annotations=None, meta=None)], structuredContent={'result': 'Weather in Hyderabad: 22degreesK'}, isError=False), is_error=False), return_direct=False)], raw={'id': 'chatcmpl-BrLZpFWTtDN7AuIj7P6GR59Z5cBcF', 'choices': [{'delta': {'content': None, 'function_call': None, 'refusal': None, 'role': None, 'tool_calls': None}, 'finish_reason': 'stop', 'index': 0, 'logprobs': None, 'content_filter_results': {}}], 'created': 1752054025, 'model': 'gpt-4o-2024-11-20', 'object': 'chat.completion.chunk', 'service_tier': None, 'system_fingerprint': 'fp_ee1d74bde0', 'usage': None}, current_agent_name='Agent')"
      ]
     },
     "execution_count": 15,
     "metadata": {},
     "output_type": "execute_result"
    }
   ],
   "source": [
    "agent_response"
   ]
  },
  {
   "cell_type": "code",
   "execution_count": 16,
   "id": "ac27e14e",
   "metadata": {},
   "outputs": [
    {
     "data": {
      "text/plain": [
       "'The weather in Hyderabad is 22 Kelvin.'"
      ]
     },
     "execution_count": 16,
     "metadata": {},
     "output_type": "execute_result"
    }
   ],
   "source": [
    "str(agent_response)"
   ]
  },
  {
   "cell_type": "code",
   "execution_count": null,
   "id": "07eba4af",
   "metadata": {},
   "outputs": [],
   "source": []
  }
 ],
 "metadata": {
  "kernelspec": {
   "display_name": "agentenv",
   "language": "python",
   "name": "python3"
  },
  "language_info": {
   "codemirror_mode": {
    "name": "ipython",
    "version": 3
   },
   "file_extension": ".py",
   "mimetype": "text/x-python",
   "name": "python",
   "nbconvert_exporter": "python",
   "pygments_lexer": "ipython3",
   "version": "3.10.12"
  }
 },
 "nbformat": 4,
 "nbformat_minor": 5
}
