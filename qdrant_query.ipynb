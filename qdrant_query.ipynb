{
 "cells": [
  {
   "cell_type": "code",
   "execution_count": 5,
   "id": "ddfae31c",
   "metadata": {},
   "outputs": [],
   "source": [
    "from qazure import get_llm, get_embedder\n",
    "import logging\n",
    "import sys\n",
    "\n",
    "import qdrant_client\n",
    "from IPython.display import Markdown, display\n",
    "from llama_index.core import VectorStoreIndex, SimpleDirectoryReader\n",
    "from llama_index.core import StorageContext\n",
    "from llama_index.vector_stores.qdrant import QdrantVectorStore\n",
    "from llama_index.core import Settings"
   ]
  },
  {
   "cell_type": "code",
   "execution_count": 6,
   "id": "109ab4a7",
   "metadata": {},
   "outputs": [],
   "source": [
    "logging.basicConfig(\n",
    "    stream=sys.stdout, level=logging.INFO\n",
    ")  # logging.DEBUG for more verbose output\n",
    "logging.getLogger().addHandler(logging.StreamHandler(stream=sys.stdout))"
   ]
  },
  {
   "cell_type": "code",
   "execution_count": 7,
   "id": "6549eba1",
   "metadata": {},
   "outputs": [],
   "source": [
    "llm = get_llm()\n",
    "embed_model = get_embedder()"
   ]
  },
  {
   "cell_type": "code",
   "execution_count": 12,
   "id": "41fea96c",
   "metadata": {},
   "outputs": [],
   "source": [
    "Settings.llm = llm\n",
    "Settings.embed_model = embed_model"
   ]
  },
  {
   "cell_type": "code",
   "execution_count": 8,
   "id": "a4a0306d",
   "metadata": {},
   "outputs": [],
   "source": [
    "# load documents\n",
    "documents = SimpleDirectoryReader(input_files=[\"paul_graham_essay.txt\"]).load_data()"
   ]
  },
  {
   "cell_type": "code",
   "execution_count": 10,
   "id": "dbfd929a",
   "metadata": {},
   "outputs": [
    {
     "name": "stdout",
     "output_type": "stream",
     "text": [
      "INFO:httpx:HTTP Request: GET http://localhost:6333 \"HTTP/1.1 200 OK\"\n",
      "HTTP Request: GET http://localhost:6333 \"HTTP/1.1 200 OK\"\n",
      "HTTP Request: GET http://localhost:6333 \"HTTP/1.1 200 OK\"\n"
     ]
    }
   ],
   "source": [
    "client = qdrant_client.QdrantClient(\n",
    "    host=\"localhost\",\n",
    "    port=6333\n",
    ")"
   ]
  },
  {
   "cell_type": "code",
   "execution_count": 13,
   "id": "225b40c4",
   "metadata": {},
   "outputs": [
    {
     "name": "stdout",
     "output_type": "stream",
     "text": [
      "INFO:httpx:HTTP Request: GET http://localhost:6333/collections/paul_graham/exists \"HTTP/1.1 200 OK\"\n",
      "HTTP Request: GET http://localhost:6333/collections/paul_graham/exists \"HTTP/1.1 200 OK\"\n",
      "HTTP Request: GET http://localhost:6333/collections/paul_graham/exists \"HTTP/1.1 200 OK\"\n",
      "INFO:httpx:HTTP Request: POST https://evaln-openai.openai.azure.com/openai/deployments/text-embedding-ada-002/embeddings?api-version=2024-05-01-preview \"HTTP/1.1 200 OK\"\n",
      "HTTP Request: POST https://evaln-openai.openai.azure.com/openai/deployments/text-embedding-ada-002/embeddings?api-version=2024-05-01-preview \"HTTP/1.1 200 OK\"\n",
      "HTTP Request: POST https://evaln-openai.openai.azure.com/openai/deployments/text-embedding-ada-002/embeddings?api-version=2024-05-01-preview \"HTTP/1.1 200 OK\"\n",
      "INFO:httpx:HTTP Request: POST https://evaln-openai.openai.azure.com/openai/deployments/text-embedding-ada-002/embeddings?api-version=2024-05-01-preview \"HTTP/1.1 200 OK\"\n",
      "HTTP Request: POST https://evaln-openai.openai.azure.com/openai/deployments/text-embedding-ada-002/embeddings?api-version=2024-05-01-preview \"HTTP/1.1 200 OK\"\n",
      "HTTP Request: POST https://evaln-openai.openai.azure.com/openai/deployments/text-embedding-ada-002/embeddings?api-version=2024-05-01-preview \"HTTP/1.1 200 OK\"\n",
      "INFO:httpx:HTTP Request: POST https://evaln-openai.openai.azure.com/openai/deployments/text-embedding-ada-002/embeddings?api-version=2024-05-01-preview \"HTTP/1.1 200 OK\"\n",
      "HTTP Request: POST https://evaln-openai.openai.azure.com/openai/deployments/text-embedding-ada-002/embeddings?api-version=2024-05-01-preview \"HTTP/1.1 200 OK\"\n",
      "HTTP Request: POST https://evaln-openai.openai.azure.com/openai/deployments/text-embedding-ada-002/embeddings?api-version=2024-05-01-preview \"HTTP/1.1 200 OK\"\n",
      "INFO:httpx:HTTP Request: PUT http://localhost:6333/collections/paul_graham \"HTTP/1.1 200 OK\"\n",
      "HTTP Request: PUT http://localhost:6333/collections/paul_graham \"HTTP/1.1 200 OK\"\n",
      "HTTP Request: PUT http://localhost:6333/collections/paul_graham \"HTTP/1.1 200 OK\"\n",
      "INFO:httpx:HTTP Request: PUT http://localhost:6333/collections/paul_graham/index?wait=true \"HTTP/1.1 200 OK\"\n",
      "HTTP Request: PUT http://localhost:6333/collections/paul_graham/index?wait=true \"HTTP/1.1 200 OK\"\n",
      "HTTP Request: PUT http://localhost:6333/collections/paul_graham/index?wait=true \"HTTP/1.1 200 OK\"\n",
      "INFO:httpx:HTTP Request: GET http://localhost:6333/collections/paul_graham \"HTTP/1.1 200 OK\"\n",
      "HTTP Request: GET http://localhost:6333/collections/paul_graham \"HTTP/1.1 200 OK\"\n",
      "HTTP Request: GET http://localhost:6333/collections/paul_graham \"HTTP/1.1 200 OK\"\n",
      "INFO:httpx:HTTP Request: PUT http://localhost:6333/collections/paul_graham/points?wait=true \"HTTP/1.1 200 OK\"\n",
      "HTTP Request: PUT http://localhost:6333/collections/paul_graham/points?wait=true \"HTTP/1.1 200 OK\"\n",
      "HTTP Request: PUT http://localhost:6333/collections/paul_graham/points?wait=true \"HTTP/1.1 200 OK\"\n"
     ]
    }
   ],
   "source": [
    "vector_store = QdrantVectorStore(client=client, collection_name=\"paul_graham\")\n",
    "storage_context = StorageContext.from_defaults(vector_store=vector_store)\n",
    "index = VectorStoreIndex.from_documents(\n",
    "    documents,\n",
    "    storage_context=storage_context,\n",
    ")"
   ]
  },
  {
   "cell_type": "code",
   "execution_count": 14,
   "id": "c019cefd",
   "metadata": {},
   "outputs": [
    {
     "name": "stdout",
     "output_type": "stream",
     "text": [
      "INFO:httpx:HTTP Request: POST https://evaln-openai.openai.azure.com/openai/deployments/text-embedding-ada-002/embeddings?api-version=2024-05-01-preview \"HTTP/1.1 200 OK\"\n",
      "HTTP Request: POST https://evaln-openai.openai.azure.com/openai/deployments/text-embedding-ada-002/embeddings?api-version=2024-05-01-preview \"HTTP/1.1 200 OK\"\n",
      "HTTP Request: POST https://evaln-openai.openai.azure.com/openai/deployments/text-embedding-ada-002/embeddings?api-version=2024-05-01-preview \"HTTP/1.1 200 OK\"\n",
      "INFO:httpx:HTTP Request: POST http://localhost:6333/collections/paul_graham/points/search \"HTTP/1.1 200 OK\"\n",
      "HTTP Request: POST http://localhost:6333/collections/paul_graham/points/search \"HTTP/1.1 200 OK\"\n",
      "HTTP Request: POST http://localhost:6333/collections/paul_graham/points/search \"HTTP/1.1 200 OK\"\n",
      "INFO:httpx:HTTP Request: POST https://evaln-openai.openai.azure.com/openai/deployments/gpt-4o/chat/completions?api-version=2024-05-01-preview \"HTTP/1.1 200 OK\"\n",
      "HTTP Request: POST https://evaln-openai.openai.azure.com/openai/deployments/gpt-4o/chat/completions?api-version=2024-05-01-preview \"HTTP/1.1 200 OK\"\n",
      "HTTP Request: POST https://evaln-openai.openai.azure.com/openai/deployments/gpt-4o/chat/completions?api-version=2024-05-01-preview \"HTTP/1.1 200 OK\"\n"
     ]
    }
   ],
   "source": [
    "# set Logging to DEBUG for more detailed outputs\n",
    "query_engine = index.as_query_engine()\n",
    "response = query_engine.query(\"What did the author do growing up?\")"
   ]
  },
  {
   "cell_type": "code",
   "execution_count": 15,
   "id": "8f35d458",
   "metadata": {},
   "outputs": [
    {
     "data": {
      "text/markdown": [
       "<b>Growing up, the author engaged in writing and programming outside of school. He wrote short stories, which he described as lacking plot but featuring characters with strong feelings. In programming, he started with an IBM 1401 computer in junior high school, experimenting with early versions of Fortran, though he found it limiting. Later, with the advent of microcomputers, he became more involved, programming on a TRS-80 and creating simple games, a model rocket prediction program, and a word processor. These activities marked his early interests and efforts in creative and technical pursuits.</b>"
      ],
      "text/plain": [
       "<IPython.core.display.Markdown object>"
      ]
     },
     "metadata": {},
     "output_type": "display_data"
    }
   ],
   "source": [
    "display(Markdown(f\"<b>{response}</b>\"))"
   ]
  },
  {
   "cell_type": "code",
   "execution_count": 16,
   "id": "60b55427",
   "metadata": {},
   "outputs": [],
   "source": [
    "loaded_index = VectorStoreIndex.from_vector_store(\n",
    "    vector_store,\n",
    "    # Embedding model should match the original embedding model\n",
    "    # embed_model=Settings.embed_model\n",
    ")"
   ]
  },
  {
   "cell_type": "code",
   "execution_count": 17,
   "id": "c39640ad",
   "metadata": {},
   "outputs": [
    {
     "name": "stdout",
     "output_type": "stream",
     "text": [
      "INFO:httpx:HTTP Request: POST https://evaln-openai.openai.azure.com/openai/deployments/text-embedding-ada-002/embeddings?api-version=2024-05-01-preview \"HTTP/1.1 200 OK\"\n",
      "HTTP Request: POST https://evaln-openai.openai.azure.com/openai/deployments/text-embedding-ada-002/embeddings?api-version=2024-05-01-preview \"HTTP/1.1 200 OK\"\n",
      "HTTP Request: POST https://evaln-openai.openai.azure.com/openai/deployments/text-embedding-ada-002/embeddings?api-version=2024-05-01-preview \"HTTP/1.1 200 OK\"\n",
      "INFO:httpx:HTTP Request: POST http://localhost:6333/collections/paul_graham/points/search \"HTTP/1.1 200 OK\"\n",
      "HTTP Request: POST http://localhost:6333/collections/paul_graham/points/search \"HTTP/1.1 200 OK\"\n",
      "HTTP Request: POST http://localhost:6333/collections/paul_graham/points/search \"HTTP/1.1 200 OK\"\n",
      "INFO:httpx:HTTP Request: POST https://evaln-openai.openai.azure.com/openai/deployments/gpt-4o/chat/completions?api-version=2024-05-01-preview \"HTTP/1.1 200 OK\"\n",
      "HTTP Request: POST https://evaln-openai.openai.azure.com/openai/deployments/gpt-4o/chat/completions?api-version=2024-05-01-preview \"HTTP/1.1 200 OK\"\n",
      "HTTP Request: POST https://evaln-openai.openai.azure.com/openai/deployments/gpt-4o/chat/completions?api-version=2024-05-01-preview \"HTTP/1.1 200 OK\"\n"
     ]
    }
   ],
   "source": [
    "# set Logging to DEBUG for more detailed outputs\n",
    "query_engine = loaded_index.as_query_engine()\n",
    "response = query_engine.query(\n",
    "    \"What did the author do after his time at Viaweb?\"\n",
    ")"
   ]
  },
  {
   "cell_type": "code",
   "execution_count": 19,
   "id": "edfae240",
   "metadata": {},
   "outputs": [
    {
     "data": {
      "text/plain": [
       "Response(response='After his time at Viaweb, the author transitioned to working at Yahoo following the acquisition of his company. However, he eventually left Yahoo in the summer of 1999 after his stock options vested. He decided to pursue painting, which had been his original goal for getting rich. He initially started painting in California but struggled with energy and ambition, partly due to isolation. In desperation, he returned to New York, resumed his old lifestyle, and began painting more effectively while experimenting with new techniques. He also started looking for an apartment to buy and reflected on his experiences during this period.', source_nodes=[NodeWithScore(node=TextNode(id_='12f6b68c-899f-4dcf-bbf7-9a93533db7ed', embedding=None, metadata={'file_path': 'paul_graham_essay.txt', 'file_name': 'paul_graham_essay.txt', 'file_type': 'text/plain', 'file_size': 75042, 'creation_date': '2025-05-05', 'last_modified_date': '2025-05-05'}, excluded_embed_metadata_keys=['file_name', 'file_type', 'file_size', 'creation_date', 'last_modified_date', 'last_accessed_date'], excluded_llm_metadata_keys=['file_name', 'file_type', 'file_size', 'creation_date', 'last_modified_date', 'last_accessed_date'], relationships={<NodeRelationship.SOURCE: '1'>: RelatedNodeInfo(node_id='c37dbd3c-146c-4f88-ab99-6a9efc43d911', node_type='4', metadata={'file_path': 'paul_graham_essay.txt', 'file_name': 'paul_graham_essay.txt', 'file_type': 'text/plain', 'file_size': 75042, 'creation_date': '2025-05-05', 'last_modified_date': '2025-05-05'}, hash='e308f3cc62127a7d7ebcca469755ab6af987539f2f1d9022dfba04fff5ce11be'), <NodeRelationship.PREVIOUS: '2'>: RelatedNodeInfo(node_id='537328b6-ecb8-44a3-8403-a17adcd28cd2', node_type='1', metadata={'file_path': 'paul_graham_essay.txt', 'file_name': 'paul_graham_essay.txt', 'file_type': 'text/plain', 'file_size': 75042, 'creation_date': '2025-05-05', 'last_modified_date': '2025-05-05'}, hash='1dbbfa059186845b6b3e67a4e7c48880d202d1b5ee9fc80d31fa1d81fd0c3c64'), <NodeRelationship.NEXT: '3'>: RelatedNodeInfo(node_id='2a289b77-53f3-4fde-99ff-cc9f7da88e44', node_type='1', metadata={}, hash='ad22805b20d228817dc82f1b822446ca72d8791a19bb485d8ebbbb7d867a2c41')}, metadata_template='{key}: {value}', metadata_separator='\\n', text=\"Nor had I changed my grad student lifestyle significantly since we started. So when Yahoo bought us it felt like going from rags to riches. Since we were going to California, I bought a car, a yellow 1998 VW GTI. I remember thinking that its leather seats alone were by far the most luxurious thing I owned.\\n\\nThe next year, from the summer of 1998 to the summer of 1999, must have been the least productive of my life. I didn't realize it at the time, but I was worn out from the effort and stress of running Viaweb. For a while after I got to California I tried to continue my usual m.o. of programming till 3 in the morning, but fatigue combined with Yahoo's prematurely aged culture and grim cube farm in Santa Clara gradually dragged me down. After a few months it felt disconcertingly like working at Interleaf.\\n\\nYahoo had given us a lot of options when they bought us. At the time I thought Yahoo was so overvalued that they'd never be worth anything, but to my astonishment the stock went up 5x in the next year. I hung on till the first chunk of options vested, then in the summer of 1999 I left. It had been so long since I'd painted anything that I'd half forgotten why I was doing this. My brain had been entirely full of software and men's shirts for 4 years. But I had done this to get rich so I could paint, I reminded myself, and now I was rich, so I should go paint.\\n\\nWhen I said I was leaving, my boss at Yahoo had a long conversation with me about my plans. I told him all about the kinds of pictures I wanted to paint. At the time I was touched that he took such an interest in me. Now I realize it was because he thought I was lying. My options at that point were worth about $2 million a month. If I was leaving that kind of money on the table, it could only be to go and start some new startup, and if I did, I might take people with me. This was the height of the Internet Bubble, and Yahoo was ground zero of it. My boss was at that moment a billionaire. Leaving then to start a new startup must have seemed to him an insanely, and yet also plausibly, ambitious plan.\\n\\nBut I really was quitting to paint, and I started immediately. There was no time to lose. I'd already burned 4 years getting rich. Now when I talk to founders who are leaving after selling their companies, my advice is always the same: take a vacation. That's what I should have done, just gone off somewhere and done nothing for a month or two, but the idea never occurred to me.\\n\\nSo I tried to paint, but I just didn't seem to have any energy or ambition. Part of the problem was that I didn't know many people in California. I'd compounded this problem by buying a house up in the Santa Cruz Mountains, with a beautiful view but miles from anywhere. I stuck it out for a few more months, then in desperation I went back to New York, where unless you understand about rent control you'll be surprised to hear I still had my apartment, sealed up like a tomb of my old life. Idelle was in New York at least, and there were other people trying to paint there, even though I didn't know any of them.\\n\\nWhen I got back to New York I resumed my old life, except now I was rich. It was as weird as it sounds. I resumed all my old patterns, except now there were doors where there hadn't been. Now when I was tired of walking, all I had to do was raise my hand, and (unless it was raining) a taxi would stop to pick me up. Now when I walked past charming little restaurants I could go in and order lunch. It was exciting for a while. Painting started to go better. I experimented with a new kind of still life where I'd paint one painting in the old way, then photograph it and print it, blown up, on canvas, and then use that as the underpainting for a second still life, painted from the same objects (which hopefully hadn't rotted yet).\\n\\nMeanwhile I looked for an apartment to buy. Now I could actually choose what neighborhood to live in. Where, I asked myself and various real estate agents, is the Cambridge of New York? Aided by occasional visits to actual Cambridge, I gradually realized there wasn't one. Huh.\\n\\nAround this time, in the spring of 2000, I had an idea. It was clear from our experience with Viaweb that web apps were the future.\", mimetype='text/plain', start_char_idx=35534, end_char_idx=39771, metadata_seperator='\\n', text_template='{metadata_str}\\n\\n{content}'), score=0.8443005), NodeWithScore(node=TextNode(id_='537328b6-ecb8-44a3-8403-a17adcd28cd2', embedding=None, metadata={'file_path': 'paul_graham_essay.txt', 'file_name': 'paul_graham_essay.txt', 'file_type': 'text/plain', 'file_size': 75042, 'creation_date': '2025-05-05', 'last_modified_date': '2025-05-05'}, excluded_embed_metadata_keys=['file_name', 'file_type', 'file_size', 'creation_date', 'last_modified_date', 'last_accessed_date'], excluded_llm_metadata_keys=['file_name', 'file_type', 'file_size', 'creation_date', 'last_modified_date', 'last_accessed_date'], relationships={<NodeRelationship.SOURCE: '1'>: RelatedNodeInfo(node_id='c37dbd3c-146c-4f88-ab99-6a9efc43d911', node_type='4', metadata={'file_path': 'paul_graham_essay.txt', 'file_name': 'paul_graham_essay.txt', 'file_type': 'text/plain', 'file_size': 75042, 'creation_date': '2025-05-05', 'last_modified_date': '2025-05-05'}, hash='e308f3cc62127a7d7ebcca469755ab6af987539f2f1d9022dfba04fff5ce11be'), <NodeRelationship.PREVIOUS: '2'>: RelatedNodeInfo(node_id='6d8c18fb-3931-4cca-a854-392ec0e9c961', node_type='1', metadata={'file_path': 'paul_graham_essay.txt', 'file_name': 'paul_graham_essay.txt', 'file_type': 'text/plain', 'file_size': 75042, 'creation_date': '2025-05-05', 'last_modified_date': '2025-05-05'}, hash='29de2640a3e15cbd00577e9e62255a40a9c34ac214665e8ec8006e2b997a6178'), <NodeRelationship.NEXT: '3'>: RelatedNodeInfo(node_id='12f6b68c-899f-4dcf-bbf7-9a93533db7ed', node_type='1', metadata={}, hash='c42110d220de022a08c002d57f05088cfe8c1fcec1e2196c41017780e44aef72')}, metadata_template='{key}: {value}', metadata_separator='\\n', text='Which meant being easy to use and inexpensive. It was lucky for us that we were poor, because that caused us to make Viaweb even more inexpensive than we realized. We charged $100 a month for a small store and $300 a month for a big one. This low price was a big attraction, and a constant thorn in the sides of competitors, but it wasn\\'t because of some clever insight that we set the price low. We had no idea what businesses paid for things. $300 a month seemed like a lot of money to us.\\n\\nWe did a lot of things right by accident like that. For example, we did what\\'s now called \"doing things that don\\'t scale,\" although at the time we would have described it as \"being so lame that we\\'re driven to the most desperate measures to get users.\" The most common of which was building stores for them. This seemed particularly humiliating, since the whole raison d\\'etre of our software was that people could use it to make their own stores. But anything to get users.\\n\\nWe learned a lot more about retail than we wanted to know. For example, that if you could only have a small image of a man\\'s shirt (and all images were small then by present standards), it was better to have a closeup of the collar than a picture of the whole shirt. The reason I remember learning this was that it meant I had to rescan about 30 images of men\\'s shirts. My first set of scans were so beautiful too.\\n\\nThough this felt wrong, it was exactly the right thing to be doing. Building stores for users taught us about retail, and about how it felt to use our software. I was initially both mystified and repelled by \"business\" and thought we needed a \"business person\" to be in charge of it, but once we started to get users, I was converted, in much the same way I was converted to fatherhood once I had kids. Whatever users wanted, I was all theirs. Maybe one day we\\'d have so many users that I couldn\\'t scan their images for them, but in the meantime there was nothing more important to do.\\n\\nAnother thing I didn\\'t get at the time is that growth rate is the ultimate test of a startup. Our growth rate was fine. We had about 70 stores at the end of 1996 and about 500 at the end of 1997. I mistakenly thought the thing that mattered was the absolute number of users. And that is the thing that matters in the sense that that\\'s how much money you\\'re making, and if you\\'re not making enough, you might go out of business. But in the long term the growth rate takes care of the absolute number. If we\\'d been a startup I was advising at Y Combinator, I would have said: Stop being so stressed out, because you\\'re doing fine. You\\'re growing 7x a year. Just don\\'t hire too many more people and you\\'ll soon be profitable, and then you\\'ll control your own destiny.\\n\\nAlas I hired lots more people, partly because our investors wanted me to, and partly because that\\'s what startups did during the Internet Bubble. A company with just a handful of employees would have seemed amateurish. So we didn\\'t reach breakeven until about when Yahoo bought us in the summer of 1998. Which in turn meant we were at the mercy of investors for the entire life of the company. And since both we and our investors were noobs at startups, the result was a mess even by startup standards.\\n\\nIt was a huge relief when Yahoo bought us. In principle our Viaweb stock was valuable. It was a share in a business that was profitable and growing rapidly. But it didn\\'t feel very valuable to me; I had no idea how to value a business, but I was all too keenly aware of the near-death experiences we seemed to have every few months. Nor had I changed my grad student lifestyle significantly since we started. So when Yahoo bought us it felt like going from rags to riches. Since we were going to California, I bought a car, a yellow 1998 VW GTI. I remember thinking that its leather seats alone were by far the most luxurious thing I owned.\\n\\nThe next year, from the summer of 1998 to the summer of 1999, must have been the least productive of my life. I didn\\'t realize it at the time, but I was worn out from the effort and stress of running Viaweb. For a while after I got to California I tried to continue my usual m.o. of programming till 3 in the morning, but fatigue combined with Yahoo\\'s prematurely aged culture and grim cube farm in Santa Clara gradually dragged me down.', mimetype='text/plain', start_char_idx=31960, end_char_idx=36280, metadata_seperator='\\n', text_template='{metadata_str}\\n\\n{content}'), score=0.83637977)], metadata={'12f6b68c-899f-4dcf-bbf7-9a93533db7ed': {'file_path': 'paul_graham_essay.txt', 'file_name': 'paul_graham_essay.txt', 'file_type': 'text/plain', 'file_size': 75042, 'creation_date': '2025-05-05', 'last_modified_date': '2025-05-05'}, '537328b6-ecb8-44a3-8403-a17adcd28cd2': {'file_path': 'paul_graham_essay.txt', 'file_name': 'paul_graham_essay.txt', 'file_type': 'text/plain', 'file_size': 75042, 'creation_date': '2025-05-05', 'last_modified_date': '2025-05-05'}})"
      ]
     },
     "execution_count": 19,
     "metadata": {},
     "output_type": "execute_result"
    }
   ],
   "source": [
    "response"
   ]
  },
  {
   "cell_type": "code",
   "execution_count": 20,
   "id": "eba49df3",
   "metadata": {},
   "outputs": [
    {
     "data": {
      "text/plain": [
       "['BaseCallbackHandler',\n",
       " 'BasePromptTemplate',\n",
       " 'Callable',\n",
       " 'ChatPromptTemplate',\n",
       " 'ComposableGraph',\n",
       " 'Document',\n",
       " 'DocumentSummaryIndex',\n",
       " 'GPTDocumentSummaryIndex',\n",
       " 'GPTKeywordTableIndex',\n",
       " 'GPTListIndex',\n",
       " 'GPTRAKEKeywordTableIndex',\n",
       " 'GPTSimpleKeywordTableIndex',\n",
       " 'GPTTreeIndex',\n",
       " 'GPTVectorStoreIndex',\n",
       " 'IndexStructType',\n",
       " 'KeywordTableIndex',\n",
       " 'KnowledgeGraphIndex',\n",
       " 'ListIndex',\n",
       " 'MockEmbedding',\n",
       " 'NullHandler',\n",
       " 'Optional',\n",
       " 'Prompt',\n",
       " 'PromptHelper',\n",
       " 'PromptTemplate',\n",
       " 'PropertyGraphIndex',\n",
       " 'QueryBundle',\n",
       " 'RAKEKeywordTableIndex',\n",
       " 'Response',\n",
       " 'SQLContextBuilder',\n",
       " 'SQLDatabase',\n",
       " 'SQLDocumentContextBuilder',\n",
       " 'SelectorPromptTemplate',\n",
       " 'ServiceContext',\n",
       " 'Settings',\n",
       " 'SimpleDirectoryReader',\n",
       " 'SimpleKeywordTableIndex',\n",
       " 'StorageContext',\n",
       " 'SummaryIndex',\n",
       " 'TreeIndex',\n",
       " 'VectorStoreIndex',\n",
       " '__all__',\n",
       " '__annotations__',\n",
       " '__builtins__',\n",
       " '__cached__',\n",
       " '__doc__',\n",
       " '__file__',\n",
       " '__loader__',\n",
       " '__name__',\n",
       " '__package__',\n",
       " '__path__',\n",
       " '__spec__',\n",
       " '__version__',\n",
       " 'async_utils',\n",
       " 'base',\n",
       " 'bridge',\n",
       " 'callbacks',\n",
       " 'chat_engine',\n",
       " 'constants',\n",
       " 'data_structs',\n",
       " 'download',\n",
       " 'download_loader',\n",
       " 'embeddings',\n",
       " 'evaluation',\n",
       " 'get_response_synthesizer',\n",
       " 'get_tokenizer',\n",
       " 'global_handler',\n",
       " 'global_tokenizer',\n",
       " 'graph_stores',\n",
       " 'image_retriever',\n",
       " 'indices',\n",
       " 'ingestion',\n",
       " 'instrumentation',\n",
       " 'llama_dataset',\n",
       " 'llms',\n",
       " 'load_graph_from_storage',\n",
       " 'load_index_from_storage',\n",
       " 'load_indices_from_storage',\n",
       " 'logging',\n",
       " 'memory',\n",
       " 'multi_modal_llms',\n",
       " 'node_parser',\n",
       " 'objects',\n",
       " 'output_parsers',\n",
       " 'postprocessor',\n",
       " 'program',\n",
       " 'prompts',\n",
       " 'query_engine',\n",
       " 'question_gen',\n",
       " 'readers',\n",
       " 'response',\n",
       " 'response_synthesizers',\n",
       " 'schema',\n",
       " 'selectors',\n",
       " 'service_context',\n",
       " 'set_global_handler',\n",
       " 'set_global_service_context',\n",
       " 'set_global_tokenizer',\n",
       " 'settings',\n",
       " 'storage',\n",
       " 'tools',\n",
       " 'types',\n",
       " 'utilities',\n",
       " 'utils',\n",
       " 'vector_stores',\n",
       " 'workflow']"
      ]
     },
     "execution_count": 20,
     "metadata": {},
     "output_type": "execute_result"
    }
   ],
   "source": [
    "import llama_index.core as core\n",
    "dir(core)"
   ]
  },
  {
   "cell_type": "code",
   "execution_count": null,
   "id": "8249937c",
   "metadata": {},
   "outputs": [],
   "source": []
  }
 ],
 "metadata": {
  "kernelspec": {
   "display_name": "agentenv",
   "language": "python",
   "name": "python3"
  },
  "language_info": {
   "codemirror_mode": {
    "name": "ipython",
    "version": 3
   },
   "file_extension": ".py",
   "mimetype": "text/x-python",
   "name": "python",
   "nbconvert_exporter": "python",
   "pygments_lexer": "ipython3",
   "version": "3.10.12"
  }
 },
 "nbformat": 4,
 "nbformat_minor": 5
}
