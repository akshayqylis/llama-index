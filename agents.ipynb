{
 "cells": [
  {
   "cell_type": "code",
   "execution_count": 1,
   "id": "8ce2e073",
   "metadata": {},
   "outputs": [],
   "source": [
    "from llama_index.core.agent.workflow import FunctionAgent\n",
    "from llama_index.core import Settings\n",
    "from llama_index.core import VectorStoreIndex, SimpleDirectoryReader\n",
    "from llama_index.core.tools import QueryEngineTool"
   ]
  },
  {
   "cell_type": "code",
   "execution_count": 3,
   "id": "484ceb1b",
   "metadata": {},
   "outputs": [],
   "source": [
    "from qazure import get_llm, get_embedder"
   ]
  },
  {
   "cell_type": "code",
   "execution_count": 4,
   "id": "9aaf0ec3",
   "metadata": {},
   "outputs": [],
   "source": [
    "import logging\n",
    "import sys"
   ]
  },
  {
   "cell_type": "code",
   "execution_count": 5,
   "id": "163f1bf2",
   "metadata": {},
   "outputs": [],
   "source": [
    "logging.basicConfig(\n",
    "    stream=sys.stdout, level=logging.INFO\n",
    ")  # logging.DEBUG for more verbose output\n",
    "logging.getLogger().addHandler(logging.StreamHandler(stream=sys.stdout))"
   ]
  },
  {
   "cell_type": "code",
   "execution_count": 6,
   "id": "684214cb",
   "metadata": {},
   "outputs": [],
   "source": [
    "llm = get_llm()\n",
    "embed_model = get_embedder()"
   ]
  },
  {
   "cell_type": "code",
   "execution_count": 7,
   "id": "a21afed6",
   "metadata": {},
   "outputs": [],
   "source": [
    "Settings.llm = llm\n",
    "Settings.embed_model = embed_model"
   ]
  },
  {
   "cell_type": "code",
   "execution_count": 8,
   "id": "20870b0b",
   "metadata": {},
   "outputs": [],
   "source": [
    "# Define a simple calculator tool\n",
    "def multiply(a: float, b: float) -> float:\n",
    "    \"\"\"Useful for multiplying two numbers.\"\"\"\n",
    "    return a * b"
   ]
  },
  {
   "cell_type": "code",
   "execution_count": 9,
   "id": "f03bc052",
   "metadata": {},
   "outputs": [],
   "source": [
    "# Create an agent workflow with our calculator tool\n",
    "agent = FunctionAgent(\n",
    "    tools=[multiply],\n",
    "    llm=llm,\n",
    "    system_prompt=\"You are a helpful assistant that can multiply two numbers.\",\n",
    ")"
   ]
  },
  {
   "cell_type": "code",
   "execution_count": 10,
   "id": "bef6b023",
   "metadata": {},
   "outputs": [
    {
     "name": "stdout",
     "output_type": "stream",
     "text": [
      "INFO:httpx:HTTP Request: POST https://evaln-openai.openai.azure.com/openai/deployments/gpt-4o/chat/completions?api-version=2024-05-01-preview \"HTTP/1.1 200 OK\"\n",
      "HTTP Request: POST https://evaln-openai.openai.azure.com/openai/deployments/gpt-4o/chat/completions?api-version=2024-05-01-preview \"HTTP/1.1 200 OK\"\n",
      "INFO:httpx:HTTP Request: POST https://evaln-openai.openai.azure.com/openai/deployments/gpt-4o/chat/completions?api-version=2024-05-01-preview \"HTTP/1.1 200 OK\"\n",
      "HTTP Request: POST https://evaln-openai.openai.azure.com/openai/deployments/gpt-4o/chat/completions?api-version=2024-05-01-preview \"HTTP/1.1 200 OK\"\n"
     ]
    }
   ],
   "source": [
    "agent_response = await agent.run(\"What is 1234 * 4567?\")"
   ]
  },
  {
   "cell_type": "code",
   "execution_count": 11,
   "id": "4479e2be",
   "metadata": {},
   "outputs": [
    {
     "data": {
      "text/plain": [
       "'1234 multiplied by 4567 equals 5,635,678.'"
      ]
     },
     "execution_count": 11,
     "metadata": {},
     "output_type": "execute_result"
    }
   ],
   "source": [
    "str(agent_response)"
   ]
  },
  {
   "cell_type": "code",
   "execution_count": null,
   "id": "7e401896",
   "metadata": {},
   "outputs": [
    {
     "name": "stdout",
     "output_type": "stream",
     "text": [
      "INFO:httpx:HTTP Request: POST https://evaln-openai.openai.azure.com/openai/deployments/text-embedding-ada-002/embeddings?api-version=2024-05-01-preview \"HTTP/1.1 200 OK\"\n",
      "HTTP Request: POST https://evaln-openai.openai.azure.com/openai/deployments/text-embedding-ada-002/embeddings?api-version=2024-05-01-preview \"HTTP/1.1 200 OK\"\n"
     ]
    }
   ],
   "source": [
    "# Simple query by indexing\n",
    "# TODO: Try multimedia inputs like mp3 and mp4\n",
    "documents = SimpleDirectoryReader(\n",
    "    input_files=[\"feedback.docx\"]\n",
    ").load_data()\n",
    "feedback_index = VectorStoreIndex.from_documents(documents)"
   ]
  },
  {
   "cell_type": "code",
   "execution_count": 18,
   "id": "885b64d1",
   "metadata": {},
   "outputs": [],
   "source": [
    "retrieval_tool = QueryEngineTool.from_defaults(\n",
    "    query_engine=feedback_index.as_query_engine(),\n",
    "    description=\"Use this retrieval tool to get information from feedback form.\",\n",
    ")"
   ]
  },
  {
   "cell_type": "code",
   "execution_count": 22,
   "id": "4342ee5b",
   "metadata": {},
   "outputs": [],
   "source": [
    "# Create an agent workflow with our calculator tool\n",
    "retrieval_agent = FunctionAgent(\n",
    "    tools=[retrieval_tool],\n",
    "    llm=llm,\n",
    "    system_prompt=\"You are a helpful assistant that retrieves information using the retrieval tool\",\n",
    ")"
   ]
  },
  {
   "cell_type": "code",
   "execution_count": 25,
   "id": "667e11cc",
   "metadata": {},
   "outputs": [
    {
     "name": "stdout",
     "output_type": "stream",
     "text": [
      "INFO:httpx:HTTP Request: POST https://evaln-openai.openai.azure.com/openai/deployments/gpt-4o/chat/completions?api-version=2024-05-01-preview \"HTTP/1.1 200 OK\"\n",
      "HTTP Request: POST https://evaln-openai.openai.azure.com/openai/deployments/gpt-4o/chat/completions?api-version=2024-05-01-preview \"HTTP/1.1 200 OK\"\n",
      "INFO:httpx:HTTP Request: POST https://evaln-openai.openai.azure.com/openai/deployments/text-embedding-ada-002/embeddings?api-version=2024-05-01-preview \"HTTP/1.1 200 OK\"\n",
      "HTTP Request: POST https://evaln-openai.openai.azure.com/openai/deployments/text-embedding-ada-002/embeddings?api-version=2024-05-01-preview \"HTTP/1.1 200 OK\"\n",
      "INFO:httpx:HTTP Request: POST https://evaln-openai.openai.azure.com/openai/deployments/gpt-4o/chat/completions?api-version=2024-05-01-preview \"HTTP/1.1 200 OK\"\n",
      "HTTP Request: POST https://evaln-openai.openai.azure.com/openai/deployments/gpt-4o/chat/completions?api-version=2024-05-01-preview \"HTTP/1.1 200 OK\"\n",
      "INFO:httpx:HTTP Request: POST https://evaln-openai.openai.azure.com/openai/deployments/gpt-4o/chat/completions?api-version=2024-05-01-preview \"HTTP/1.1 200 OK\"\n",
      "HTTP Request: POST https://evaln-openai.openai.azure.com/openai/deployments/gpt-4o/chat/completions?api-version=2024-05-01-preview \"HTTP/1.1 200 OK\"\n"
     ]
    },
    {
     "data": {
      "text/plain": [
       "AgentOutput(response=ChatMessage(role=<MessageRole.ASSISTANT: 'assistant'>, additional_kwargs={}, blocks=[TextBlock(block_type='text', text='The name of the candidate is Sohel, and the interviewer is Akshay.')]), tool_calls=[ToolCallResult(tool_name='query_engine_tool', tool_kwargs={'input': 'Provide the names of the interviewer and the candidate.'}, tool_id='call_h7M9DQpb1ok5PBVEJ1Ck5dLb', tool_output=ToolOutput(content='The name of the candidate is Sohel, and the interviewer is Akshay.', tool_name='query_engine_tool', raw_input={'input': 'Provide the names of the interviewer and the candidate.'}, raw_output=Response(response='The name of the candidate is Sohel, and the interviewer is Akshay.', source_nodes=[NodeWithScore(node=TextNode(id_='9c91ad8c-0631-4d31-ac47-16625cc213f8', embedding=None, metadata={'file_name': 'feedback.docx', 'file_path': 'feedback.docx', 'file_type': 'application/vnd.openxmlformats-officedocument.wordprocessingml.document', 'file_size': 18225, 'creation_date': '2025-05-06', 'last_modified_date': '2025-03-17'}, excluded_embed_metadata_keys=['file_name', 'file_type', 'file_size', 'creation_date', 'last_modified_date', 'last_accessed_date'], excluded_llm_metadata_keys=['file_name', 'file_type', 'file_size', 'creation_date', 'last_modified_date', 'last_accessed_date'], relationships={<NodeRelationship.SOURCE: '1'>: RelatedNodeInfo(node_id='e9e4cdda-2a96-40eb-815c-db4398229ecd', node_type='4', metadata={'file_name': 'feedback.docx', 'file_path': 'feedback.docx', 'file_type': 'application/vnd.openxmlformats-officedocument.wordprocessingml.document', 'file_size': 18225, 'creation_date': '2025-05-06', 'last_modified_date': '2025-03-17'}, hash='a0d7050a5a6ce7c04f9203bd8bbe4b6ebcc9232cf05df4af15d9df621fcba460')}, metadata_template='{key}: {value}', metadata_separator='\\n', text='Interview Feedback Form - Qylis\\n\\nSection 1: Candidate Details \\n\\nName of Candidate   : ______ ____  \\xa0Sohel  _ ___________\\n\\nPosition Applied For : ______ Data Science   ____________________\\n\\nDate of Interview        : __________14-02-2025___________________\\n\\nInterviewer(s)          : ___________________  Akshay \\n\\n\\n\\n\\nSection 2: Evaluation Criteria\\n\\nA. Technical Skills\\n\\nKnowledge of Tools/Technologies: \\n\\n☐ Excellent ☐ Good ☐ Average ☐ Poor\\n\\nProblem-Solving Abilities: \\n\\n☐ Excellent ☐ Good ☐ Average ☐ Poor\\n\\nUnderstanding of Role Requirements: \\n\\n☐ Excellent ☐ Good ☐ Average ☐ Poor\\n\\nB. Behavioural Skills\\n\\nCommunication Skills: \\n\\n☐ Excellent ☐ Good ☐ Average ☐ Poor\\n\\nTeamwork & Collaboration: \\n\\n☐ Excellent ☐ Good ☐ Average ☐ Poor\\n\\nAdaptability & Flexibility: \\n\\n☐ Excellent ☐ Good ☐ Average ☐ Poor\\n\\nC. Cultural Fit\\n\\nAlignment with Company Values: \\n\\n☐ Excellent ☐ Good ☐ Average ☐ Poor\\n\\n\\n\\nOpenness to Feedback: \\n\\n☐ Excellent ☐ Good ☐ Average ☐ Poor\\n\\n\\n\\nSection 3: Comments and Observations\\n\\nStrengths:\\n\\nOpenness.\\n\\nQuickly grasps the concepts.\\n\\n\\n\\nAreas for Improvement:\\n\\nBetter understanding of the technical aspects of the problems in the field.\\n\\n\\n\\nAdditional Comments:\\n\\nNone\\n\\n\\n\\n\\n\\nSection 4: Overall Recommendation\\n\\n☐ Strongly Recommend\\n\\n☐ Recommend\\n\\n☐ Recommend with Reservations\\n\\n☐ Do Not Recommend', mimetype='text/plain', start_char_idx=0, end_char_idx=1297, metadata_seperator='\\n', text_template='{metadata_str}\\n\\n{content}'), score=0.7827088176668512)], metadata={'9c91ad8c-0631-4d31-ac47-16625cc213f8': {'file_name': 'feedback.docx', 'file_path': 'feedback.docx', 'file_type': 'application/vnd.openxmlformats-officedocument.wordprocessingml.document', 'file_size': 18225, 'creation_date': '2025-05-06', 'last_modified_date': '2025-03-17'}}), is_error=False), return_direct=False)], raw={'id': 'chatcmpl-BWfVzobWfC0bUUIIxFF1DMKBnDSFK', 'choices': [{'delta': {'content': None, 'function_call': None, 'refusal': None, 'role': None, 'tool_calls': None}, 'finish_reason': 'stop', 'index': 0, 'logprobs': None, 'content_filter_results': {}}], 'created': 1747125779, 'model': 'gpt-4o-2024-11-20', 'object': 'chat.completion.chunk', 'service_tier': None, 'system_fingerprint': 'fp_ee1d74bde0', 'usage': None}, current_agent_name='Agent')"
      ]
     },
     "execution_count": 25,
     "metadata": {},
     "output_type": "execute_result"
    }
   ],
   "source": [
    "ra_response = await retrieval_agent.run(\"Give me the names of the interviewer and the candidate.\")\n",
    "ra_response"
   ]
  },
  {
   "cell_type": "code",
   "execution_count": 27,
   "id": "68b6263f",
   "metadata": {},
   "outputs": [],
   "source": [
    "# Create an agent workflow with our calculator tool\n",
    "compound_agent = FunctionAgent(\n",
    "    tools=[retrieval_tool,multiply],\n",
    "    llm=llm,\n",
    "    system_prompt=\"You are a helpful assistant that answers queries.\",\n",
    ")"
   ]
  },
  {
   "cell_type": "code",
   "execution_count": 32,
   "id": "1143dccd",
   "metadata": {},
   "outputs": [
    {
     "name": "stdout",
     "output_type": "stream",
     "text": [
      "INFO:httpx:HTTP Request: POST https://evaln-openai.openai.azure.com/openai/deployments/gpt-4o/chat/completions?api-version=2024-05-01-preview \"HTTP/1.1 200 OK\"\n",
      "HTTP Request: POST https://evaln-openai.openai.azure.com/openai/deployments/gpt-4o/chat/completions?api-version=2024-05-01-preview \"HTTP/1.1 200 OK\"\n",
      "INFO:httpx:HTTP Request: POST https://evaln-openai.openai.azure.com/openai/deployments/text-embedding-ada-002/embeddings?api-version=2024-05-01-preview \"HTTP/1.1 200 OK\"\n",
      "HTTP Request: POST https://evaln-openai.openai.azure.com/openai/deployments/text-embedding-ada-002/embeddings?api-version=2024-05-01-preview \"HTTP/1.1 200 OK\"\n",
      "INFO:httpx:HTTP Request: POST https://evaln-openai.openai.azure.com/openai/deployments/gpt-4o/chat/completions?api-version=2024-05-01-preview \"HTTP/1.1 200 OK\"\n",
      "HTTP Request: POST https://evaln-openai.openai.azure.com/openai/deployments/gpt-4o/chat/completions?api-version=2024-05-01-preview \"HTTP/1.1 200 OK\"\n",
      "INFO:httpx:HTTP Request: POST https://evaln-openai.openai.azure.com/openai/deployments/gpt-4o/chat/completions?api-version=2024-05-01-preview \"HTTP/1.1 200 OK\"\n",
      "HTTP Request: POST https://evaln-openai.openai.azure.com/openai/deployments/gpt-4o/chat/completions?api-version=2024-05-01-preview \"HTTP/1.1 200 OK\"\n",
      "Retrieval response: The interviewer is Akshay, and the candidate is Sohel.\n",
      "INFO:httpx:HTTP Request: POST https://evaln-openai.openai.azure.com/openai/deployments/gpt-4o/chat/completions?api-version=2024-05-01-preview \"HTTP/1.1 200 OK\"\n",
      "HTTP Request: POST https://evaln-openai.openai.azure.com/openai/deployments/gpt-4o/chat/completions?api-version=2024-05-01-preview \"HTTP/1.1 200 OK\"\n",
      "INFO:httpx:HTTP Request: POST https://evaln-openai.openai.azure.com/openai/deployments/gpt-4o/chat/completions?api-version=2024-05-01-preview \"HTTP/1.1 200 OK\"\n",
      "HTTP Request: POST https://evaln-openai.openai.azure.com/openai/deployments/gpt-4o/chat/completions?api-version=2024-05-01-preview \"HTTP/1.1 200 OK\"\n",
      "Multiply response: 1234 multiplied by 4567 equals 5,635,678.\n"
     ]
    }
   ],
   "source": [
    "ca_response = await compound_agent.run(\"Give me the names of the interviewer and the candidate.\")\n",
    "print('Retrieval response:', ca_response)\n",
    "ca_response = await compound_agent.run(\"What is 1234 * 4567?\")\n",
    "print('Multiply response:', ca_response)"
   ]
  },
  {
   "cell_type": "code",
   "execution_count": null,
   "id": "4cf25902",
   "metadata": {},
   "outputs": [],
   "source": []
  }
 ],
 "metadata": {
  "kernelspec": {
   "display_name": "agentenv",
   "language": "python",
   "name": "python3"
  },
  "language_info": {
   "codemirror_mode": {
    "name": "ipython",
    "version": 3
   },
   "file_extension": ".py",
   "mimetype": "text/x-python",
   "name": "python",
   "nbconvert_exporter": "python",
   "pygments_lexer": "ipython3",
   "version": "3.10.12"
  }
 },
 "nbformat": 4,
 "nbformat_minor": 5
}
